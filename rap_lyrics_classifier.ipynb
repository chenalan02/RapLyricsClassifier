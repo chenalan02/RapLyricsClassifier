{
 "cells": [
  {
   "cell_type": "code",
   "execution_count": 1,
   "metadata": {},
   "outputs": [],
   "source": [
    "import numpy as np\n",
    "import matplotlib.pyplot as plt\n",
    "import string\n",
    "import os\n",
    "from sklearn.model_selection import train_test_split"
   ]
  },
  {
   "cell_type": "code",
   "execution_count": 2,
   "metadata": {},
   "outputs": [],
   "source": [
    "lyrics_directory = \"lyrics\"\n",
    "files = []\n",
    "\n",
    "for file in os.listdir(lyrics_directory):\n",
    "    files.append(file)"
   ]
  },
  {
   "cell_type": "code",
   "execution_count": 3,
   "metadata": {},
   "outputs": [
    {
     "data": {
      "text/plain": [
       "['Drake_lyrics.txt',\n",
       " 'Eminem_lyrics.txt',\n",
       " 'J Cole_lyrics.txt',\n",
       " 'Jay-z_lyrics.txt',\n",
       " 'Kanye West_lyrics.txt',\n",
       " 'Kendrick Lamar_lyrics.txt']"
      ]
     },
     "execution_count": 3,
     "metadata": {},
     "output_type": "execute_result"
    }
   ],
   "source": [
    "files"
   ]
  },
  {
   "cell_type": "code",
   "execution_count": 4,
   "metadata": {},
   "outputs": [],
   "source": [
    "lyrics_lines = []\n",
    "labels = []\n",
    "artists = []\n",
    "\n",
    "for label, file in enumerate(files):\n",
    "    artists.append(file)\n",
    "\n",
    "    dir = os.path.join(lyrics_directory, file)\n",
    "    for line in open(dir, encoding='utf8'):\n",
    "        line = line.rstrip().lower()\n",
    "        \n",
    "        if line:\n",
    "            line = line.translate(str.maketrans('', '', string.punctuation))\n",
    "\n",
    "            lyrics_lines.append(line)\n",
    "            labels.append(label)"
   ]
  },
  {
   "cell_type": "code",
   "execution_count": 5,
   "metadata": {},
   "outputs": [],
   "source": [
    "x_train, x_test, y_train, y_test = train_test_split(lyrics_lines, labels)"
   ]
  },
  {
   "cell_type": "code",
   "execution_count": 6,
   "metadata": {},
   "outputs": [
    {
     "data": {
      "text/plain": [
       "(22233, 7411)"
      ]
     },
     "execution_count": 6,
     "metadata": {},
     "output_type": "execute_result"
    }
   ],
   "source": [
    "len(y_train), len(y_test)"
   ]
  },
  {
   "cell_type": "code",
   "execution_count": 7,
   "metadata": {},
   "outputs": [],
   "source": [
    "idx = 1\n",
    "word2idx = {'unknown': 0}\n",
    "\n",
    "for line in x_train:\n",
    "    tokens = line.split()\n",
    "    for token in tokens:\n",
    "        if token not in word2idx:\n",
    "            word2idx[token] = idx\n",
    "            idx += 1"
   ]
  },
  {
   "cell_type": "code",
   "execution_count": 8,
   "metadata": {},
   "outputs": [],
   "source": [
    "x_train_int = []\n",
    "x_test_int = []\n",
    "\n",
    "for line in x_train:\n",
    "  tokens = line.split()\n",
    "  line_as_int = [word2idx[token] for token in tokens]\n",
    "  x_train_int.append(line_as_int)\n",
    "\n",
    "for line in x_test:\n",
    "  tokens = line.split()\n",
    "  line_as_int = [word2idx.get(token, 0) for token in tokens]\n",
    "  x_test_int.append(line_as_int)"
   ]
  },
  {
   "cell_type": "code",
   "execution_count": 9,
   "metadata": {},
   "outputs": [],
   "source": [
    "V = len(word2idx)\n",
    "\n",
    "log_probabilities = []\n",
    "\n",
    "for i in range(len(artists)):\n",
    "    A = np.ones((V, V))\n",
    "    pi = np.ones(V)\n",
    "    log_probabilities.append({\"A\": A, \"pi\": pi})"
   ]
  },
  {
   "cell_type": "code",
   "execution_count": 10,
   "metadata": {},
   "outputs": [],
   "source": [
    "def compute_log_probabilities(x_train_int, y_train, log_probabilities):\n",
    "\n",
    "    for i in range(len(x_train_int)):\n",
    "        line = x_train_int[i]\n",
    "        artist = y_train[i]\n",
    "\n",
    "        last_token_idx = None\n",
    "        for token_idx in line:\n",
    "            if last_token_idx is None:\n",
    "                log_probabilities[artist]['pi'][token_idx] += 1\n",
    "            else:\n",
    "                log_probabilities[artist][\"A\"][last_token_idx, token_idx] += 1\n",
    "            last_token_idx = token_idx\n",
    "\n",
    "    for artist in range(len(log_probabilities)):\n",
    "        log_probabilities[artist][\"A\"] /= log_probabilities[artist][\"A\"].sum(axis=1, keepdims=True)\n",
    "        log_probabilities[artist][\"pi\"] /= log_probabilities[artist][\"pi\"].sum()\n",
    "\n",
    "        log_probabilities[artist][\"A\"] = np.log(log_probabilities[artist][\"A\"])\n",
    "        log_probabilities[artist][\"pi\"] = np.log(log_probabilities[artist][\"pi\"])\n",
    "\n",
    "compute_log_probabilities(x_train_int, y_train, log_probabilities)"
   ]
  },
  {
   "cell_type": "code",
   "execution_count": 11,
   "metadata": {},
   "outputs": [],
   "source": [
    "priors = []\n",
    "total = len(y_train)\n",
    "\n",
    "for i in range(len(artists)):\n",
    "    count = sum(y == i for y in y_train)\n",
    "    priors.append(count/total)"
   ]
  },
  {
   "cell_type": "code",
   "execution_count": 12,
   "metadata": {},
   "outputs": [],
   "source": [
    "class rapClassifier:\n",
    "    def __init__(self, log_probabilities, priors, artists):\n",
    "        self.log_probabilities = log_probabilities\n",
    "        self.priors = priors\n",
    "        self.artists = artists\n",
    "\n",
    "    def _compute_probability(self, input, artist):\n",
    "        A = self.log_probabilities[artist][\"A\"]\n",
    "        pi = self.log_probabilities[artist][\"pi\"]\n",
    "\n",
    "        last_token_idx = None\n",
    "        probability = 0\n",
    "        for token_idx in input:\n",
    "            if last_token_idx is None:\n",
    "                probability += pi[token_idx]\n",
    "            else:\n",
    "                probability += A[last_token_idx, token_idx]\n",
    "\n",
    "        return probability\n",
    "\n",
    "    def predict(self, lines):\n",
    "        predictions = np.zeros(len(lines))\n",
    "        for i, line in enumerate(lines):\n",
    "            posteriors = [self._compute_probability(line, artist) + self.priors[artist] \\\n",
    "                          for artist in range(len(self.artists))]\n",
    "            prediction = np.argmax(posteriors)\n",
    "            predictions[i] = prediction\n",
    "        return predictions\n",
    "\n",
    "    def predict_line(self, line):\n",
    "        posteriors = [self._compute_probability(line, artist) + self.priors[artist] \\\n",
    "                      for artist in range(len(self.artists))]\n",
    "        prediction = np.argmax(posteriors)\n",
    "        return prediction"
   ]
  },
  {
   "cell_type": "code",
   "execution_count": 13,
   "metadata": {},
   "outputs": [],
   "source": [
    "classifier = rapClassifier(log_probabilities, priors, artists)"
   ]
  },
  {
   "cell_type": "code",
   "execution_count": 14,
   "metadata": {},
   "outputs": [
    {
     "name": "stdout",
     "output_type": "stream",
     "text": [
      "Train acc: 0.35802635721674986\n"
     ]
    }
   ],
   "source": [
    "Ptrain = classifier.predict(x_train_int)\n",
    "print(f\"Train acc: {np.mean(Ptrain == y_train)}\")"
   ]
  },
  {
   "cell_type": "code",
   "execution_count": 15,
   "metadata": {},
   "outputs": [
    {
     "name": "stdout",
     "output_type": "stream",
     "text": [
      "Test acc: 0.32829577654837405\n"
     ]
    }
   ],
   "source": [
    "Ptest = classifier.predict(x_test_int)\n",
    "print(f\"Test acc: {np.mean(Ptest == y_test)}\")"
   ]
  },
  {
   "cell_type": "code",
   "execution_count": 16,
   "metadata": {},
   "outputs": [],
   "source": [
    "import itertools\n",
    "import matplotlib.pyplot as plt\n",
    "from sklearn.metrics import confusion_matrix\n",
    "import numpy as np\n",
    "\n",
    "def plot_confusion_matrix(cm, classes,\n",
    "                          normalize=False,\n",
    "                          title='Confusion matrix',\n",
    "                          cmap=plt.cm.Blues):\n",
    "  \"\"\"\n",
    "  This function prints and plots the confusion matrix.\n",
    "  Normalization can be applied by setting `normalize=True`.\n",
    "  \"\"\"\n",
    "  if normalize:\n",
    "      cm = cm.astype('float') / cm.sum(axis=1)[:, np.newaxis]\n",
    "      print(\"Normalized confusion matrix\")\n",
    "  else:\n",
    "      print('Confusion matrix, without normalization')\n",
    "\n",
    "  print(cm)\n",
    "\n",
    "  plt.imshow(cm, interpolation='nearest', cmap=cmap)\n",
    "  plt.title(title)\n",
    "  plt.colorbar()\n",
    "  tick_marks = np.arange(len(classes))\n",
    "  plt.xticks(tick_marks, classes, rotation=45)\n",
    "  plt.yticks(tick_marks, classes)\n",
    "\n",
    "  fmt = '.2f' if normalize else 'd'\n",
    "  thresh = cm.max() / 2.\n",
    "  for i, j in itertools.product(range(cm.shape[0]), range(cm.shape[1])):\n",
    "      plt.text(j, i, format(cm[i, j], fmt),\n",
    "               horizontalalignment=\"center\",\n",
    "               color=\"white\" if cm[i, j] > thresh else \"black\")\n",
    "\n",
    "  plt.tight_layout()\n",
    "  plt.ylabel('True label')\n",
    "  plt.xlabel('Predicted label')\n",
    "  plt.show()"
   ]
  },
  {
   "cell_type": "code",
   "execution_count": 17,
   "metadata": {},
   "outputs": [],
   "source": [
    "from sklearn.metrics import confusion_matrix"
   ]
  },
  {
   "cell_type": "code",
   "execution_count": 18,
   "metadata": {},
   "outputs": [
    {
     "name": "stdout",
     "output_type": "stream",
     "text": [
      "Confusion matrix, without normalization\n",
      "[[127 301 185  57  43 281]\n",
      " [ 49 969 175  68  56 359]\n",
      " [ 44 321 340  72  46 330]\n",
      " [ 33 319 188 189  66 273]\n",
      " [ 68 311 178  86 193 327]\n",
      " [ 42 367 170  94  69 615]]\n"
     ]
    },
    {
     "data": {
      "image/png": "[encoded data removed]",
      "text/plain": [
       "<Figure size 432x288 with 2 Axes>"
      ]
     },
     "metadata": {
      "needs_background": "light"
     },
     "output_type": "display_data"
    }
   ],
   "source": [
    "cm = confusion_matrix(y_test, Ptest)\n",
    "plot_confusion_matrix(cm, artists)"
   ]
  },
  {
   "cell_type": "code",
   "execution_count": null,
   "metadata": {},
   "outputs": [],
   "source": []
  },
  {
   "cell_type": "code",
   "execution_count": null,
   "metadata": {},
   "outputs": [],
   "source": []
  },
  {
   "cell_type": "code",
   "execution_count": null,
   "metadata": {},
   "outputs": [],
   "source": []
  },
  {
   "cell_type": "code",
   "execution_count": null,
   "metadata": {},
   "outputs": [],
   "source": []
  },
  {
   "cell_type": "code",
   "execution_count": null,
   "metadata": {},
   "outputs": [],
   "source": []
  },
  {
   "cell_type": "code",
   "execution_count": null,
   "metadata": {},
   "outputs": [],
   "source": []
  }
 ],
 "metadata": {
  "interpreter": {
   "hash": "960e780614b879877b563e6b0a995023bc26c04777ef1b4a51bec4c9f3e07a98"
  },
  "kernelspec": {
   "display_name": "Python 3.9.7 64-bit ('MNIST_GANs': conda)",
   "language": "python",
   "name": "python3"
  },
  "language_info": {
   "codemirror_mode": {
    "name": "ipython",
    "version": 3
   },
   "file_extension": ".py",
   "mimetype": "text/x-python",
   "name": "python",
   "nbconvert_exporter": "python",
   "pygments_lexer": "ipython3",
   "version": "3.9.7"
  },
  "orig_nbformat": 4
 },
 "nbformat": 4,
 "nbformat_minor": 2
}
